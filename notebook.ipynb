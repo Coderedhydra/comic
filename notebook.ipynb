{
 "cells": [
  {
   "cell_type": "code",
   "execution_count": 1,
   "metadata": {},
   "outputs": [],
   "source": [
    "# Cell 1\n",
    "import torch\n",
    "from torchvision import transforms\n",
    "from PIL import Image\n",
    "import numpy as np\n",
    "from model import DSN\n",
    "import torch.nn as nn\n",
    "import cv2\n",
    "import time\n",
    "import os\n"
   ]
  },
  {
   "cell_type": "code",
   "execution_count": 2,
   "metadata": {},
   "outputs": [
    {
     "ename": "KeyboardInterrupt",
     "evalue": "",
     "output_type": "error",
     "traceback": [
      "\u001b[1;31m---------------------------------------------------------------------------\u001b[0m",
      "\u001b[1;31mKeyboardInterrupt\u001b[0m                         Traceback (most recent call last)",
      "Cell \u001b[1;32mIn[2], line 53\u001b[0m\n\u001b[0;32m     51\u001b[0m video_path \u001b[38;5;241m=\u001b[39m \u001b[38;5;124m\"\u001b[39m\u001b[38;5;124m./video/IronMan.mp4\u001b[39m\u001b[38;5;124m\"\u001b[39m\n\u001b[0;32m     52\u001b[0m output_folder \u001b[38;5;241m=\u001b[39m \u001b[38;5;124m\"\u001b[39m\u001b[38;5;124m./frames\u001b[39m\u001b[38;5;124m\"\u001b[39m\n\u001b[1;32m---> 53\u001b[0m frames \u001b[38;5;241m=\u001b[39m \u001b[43mextract_frames\u001b[49m\u001b[43m(\u001b[49m\u001b[43mvideo_path\u001b[49m\u001b[43m,\u001b[49m\u001b[43m \u001b[49m\u001b[43moutput_folder\u001b[49m\u001b[43m,\u001b[49m\u001b[43m \u001b[49m\u001b[43mframe_rate\u001b[49m\u001b[38;5;241;43m=\u001b[39;49m\u001b[38;5;241;43m2\u001b[39;49m\u001b[43m)\u001b[49m\n\u001b[0;32m     55\u001b[0m \u001b[38;5;66;03m# Now 'extracted_frame_paths' contains a list of file paths for the extracted frames\u001b[39;00m\n\u001b[0;32m     56\u001b[0m \u001b[38;5;28mprint\u001b[39m(\u001b[38;5;124m\"\u001b[39m\u001b[38;5;124mExtracted frame paths:\u001b[39m\u001b[38;5;124m\"\u001b[39m, frames)\n",
      "Cell \u001b[1;32mIn[2], line 22\u001b[0m, in \u001b[0;36mextract_frames\u001b[1;34m(video_path, output_folder, frame_rate)\u001b[0m\n\u001b[0;32m     19\u001b[0m frames \u001b[38;5;241m=\u001b[39m []  \u001b[38;5;66;03m# List to store frame paths\u001b[39;00m\n\u001b[0;32m     21\u001b[0m \u001b[38;5;28;01mwhile\u001b[39;00m cap\u001b[38;5;241m.\u001b[39misOpened():\n\u001b[1;32m---> 22\u001b[0m     ret, frame \u001b[38;5;241m=\u001b[39m \u001b[43mcap\u001b[49m\u001b[38;5;241;43m.\u001b[39;49m\u001b[43mread\u001b[49m\u001b[43m(\u001b[49m\u001b[43m)\u001b[49m\n\u001b[0;32m     24\u001b[0m     \u001b[38;5;28;01mif\u001b[39;00m \u001b[38;5;129;01mnot\u001b[39;00m ret:\n\u001b[0;32m     25\u001b[0m         \u001b[38;5;28;01mbreak\u001b[39;00m\n",
      "\u001b[1;31mKeyboardInterrupt\u001b[0m: "
     ]
    }
   ],
   "source": [
    "# # Function to extract frames at a specified frame rate and append paths to a list\n",
    "# def extract_frames(video_path, output_folder, frame_rate=2):\n",
    "#     cap = cv2.VideoCapture(video_path)\n",
    "\n",
    "#     if not cap.isOpened():\n",
    "#         print(\"Error: Could not open video file.\")\n",
    "#         return\n",
    "\n",
    "#     frame_width = int(cap.get(3))  # Get the width of the frames\n",
    "#     frame_height = int(cap.get(4))  # Get the height of the frames\n",
    "\n",
    "#     # Define the codec and create a VideoWriter object\n",
    "#     fourcc = cv2.VideoWriter_fourcc(*'mp4v')  # You can change the codec as needed\n",
    "#     output_path = os.path.join(output_folder, \"output_video.mp4\")\n",
    "#     out = cv2.VideoWriter(output_path, fourcc, frame_rate, (frame_width, frame_height))\n",
    "\n",
    "#     start_time = time.time()\n",
    "#     frame_count = 0\n",
    "#     frames = []  # List to store frame paths\n",
    "\n",
    "#     while cap.isOpened():\n",
    "#         ret, frame = cap.read()\n",
    "\n",
    "#         if not ret:\n",
    "#             break\n",
    "\n",
    "#         elapsed_time = time.time() - start_time\n",
    "#         if elapsed_time >= 1.0 / frame_rate:\n",
    "#             out.write(frame)\n",
    "#             frame_count += 1\n",
    "#             start_time = time.time()\n",
    "\n",
    "#             # Save the frame as an image file\n",
    "#             frame_filename = f\"frame_{frame_count:04d}.png\"\n",
    "#             frame_path = os.path.join(output_folder, frame_filename)\n",
    "#             cv2.imwrite(frame_path, frame)\n",
    "#             frames.append(frame_path)\n",
    "\n",
    "#     cap.release()\n",
    "#     out.release()\n",
    "#     cv2.destroyAllWindows()\n",
    "\n",
    "#     print(f\"Frames extracted: {frame_count}\")\n",
    "#     print(f\"Frames per second: {frame_rate}\")\n",
    "#     print(f\"Output video saved to: {output_path}\")\n",
    "\n",
    "#     return frames\n",
    "\n",
    "\n",
    "# # Example usage\n",
    "# video_path = \"./video/IronMan.mp4\"\n",
    "# output_folder = \"./frames\"\n",
    "# frames = extract_frames(video_path, output_folder, frame_rate=2)\n",
    "\n",
    "# # Now 'extracted_frame_paths' contains a list of file paths for the extracted frames\n",
    "# print(\"Extracted frame paths:\", frames)\n"
   ]
  },
  {
   "cell_type": "code",
   "execution_count": 2,
   "metadata": {},
   "outputs": [],
   "source": [
    "import cv2\n",
    "import os\n",
    "\n",
    "def extract_frames(input_video, output_path, start_time, end_time, frame_rate):\n",
    "    cap = cv2.VideoCapture(input_video)\n",
    "    fps = cap.get(cv2.CAP_PROP_FPS)\n",
    "    start_frame = int(start_time * fps)\n",
    "    end_frame = int(end_time * fps)\n",
    "\n",
    "    cap.set(cv2.CAP_PROP_POS_FRAMES, start_frame)\n",
    "    current_frame = start_frame\n",
    "\n",
    "    frame_count=0\n",
    "    frames = []\n",
    "    while current_frame < end_frame:\n",
    "        ret, frame = cap.read()\n",
    "        if not ret:\n",
    "            break\n",
    "\n",
    "        if current_frame % int(fps / frame_rate) == 0:\n",
    "            # Save the frame\n",
    "            frame_name = f\"{output_path}/frame_{frame_count}.png\"  # You can change the format to PNG, etc.\n",
    "            frame_filename = f\"frame_{frame_count}.png\"\n",
    "            frame_path = os.path.join(output_path, frame_filename)\n",
    "            frames.append(frame_path)\n",
    "            cv2.imwrite(frame_name, frame)\n",
    "            frame_count+=1\n",
    "\n",
    "        current_frame += 1\n",
    "\n",
    "    cap.release()\n",
    "    return frames"
   ]
  },
  {
   "cell_type": "code",
   "execution_count": 3,
   "metadata": {},
   "outputs": [],
   "source": [
    "# Cell 2\n",
    "def _get_features(frames, gpu=True, batch_size=1):\n",
    "    # Load pre-trained GoogLeNet model\n",
    "    googlenet = torch.hub.load('pytorch/vision:v0.10.0', 'googlenet', weights='GoogLeNet_Weights.DEFAULT')\n",
    "\n",
    "    # Remove the classification layer (last layer) to obtain features\n",
    "    googlenet = torch.nn.Sequential(*(list(googlenet.children())[:-1]))\n",
    "\n",
    "    # Set the model to evaluation mode\n",
    "    googlenet.eval()\n",
    "\n",
    "    # Initialize a list to store the features\n",
    "    features = []\n",
    "\n",
    "    # Image preprocessing pipeline\n",
    "    preprocess = transforms.Compose([\n",
    "        transforms.Resize(256),\n",
    "        transforms.CenterCrop(224),\n",
    "        transforms.ToTensor(),\n",
    "        transforms.Normalize(mean=[0.485, 0.456, 0.406], std=[0.229, 0.224, 0.225]),\n",
    "    ])\n",
    "\n",
    "    # Iterate through frames\n",
    "    for frame_path in frames:\n",
    "        # Load and preprocess the frame\n",
    "        input_image = Image.open(frame_path)\n",
    "        input_tensor = preprocess(input_image)\n",
    "        input_batch = input_tensor.unsqueeze(0)  # Add batch dimension\n",
    "\n",
    "        # Move the input and model to GPU if available\n",
    "        if gpu:\n",
    "            input_batch = input_batch.to('cuda')\n",
    "            googlenet.to('cuda')\n",
    "\n",
    "        # Perform feature extraction\n",
    "        with torch.no_grad():\n",
    "            output = googlenet(input_batch)\n",
    "\n",
    "        # Append the features to the list\n",
    "        features.append(output.squeeze().cpu().numpy())\n",
    "\n",
    "    # Convert the list of features to a NumPy array\n",
    "    features = np.array(features)\n",
    "\n",
    "    return features.astype(np.float32)\n",
    "\n"
   ]
  },
  {
   "cell_type": "code",
   "execution_count": 4,
   "metadata": {},
   "outputs": [],
   "source": [
    "# Cell 3\n",
    "def _get_probs(features, gpu=True, mode=0):\n",
    "    model_cache_key = \"keyframes_rl_model_cache_\" + str(mode)\n",
    "\n",
    "    if mode == 1:\n",
    "        model_path = \"pretrained_model/model_1.pth.tar\"\n",
    "    else:\n",
    "        model_path = \"pretrained_model/model_0.pth.tar\"\n",
    "    model = DSN(in_dim=1024, hid_dim=256, num_layers=1, cell=\"lstm\")\n",
    "    if gpu:\n",
    "        checkpoint = torch.load(model_path)\n",
    "    else:\n",
    "        checkpoint = torch.load(model_path, map_location='cpu')\n",
    "    model.load_state_dict(checkpoint)\n",
    "    if gpu:\n",
    "        model = nn.DataParallel(model).cuda()\n",
    "    model.eval()\n",
    "\n",
    "    seq = torch.from_numpy(features).unsqueeze(0)\n",
    "    if gpu: seq = seq.cuda()\n",
    "    probs = model(seq)\n",
    "    probs = probs.data.cpu().squeeze().numpy()\n",
    "    return probs\n",
    "\n",
    "\n"
   ]
  },
  {
   "cell_type": "code",
   "execution_count": 15,
   "metadata": {},
   "outputs": [
    {
     "name": "stderr",
     "output_type": "stream",
     "text": [
      "Using cache found in C:\\Users\\princ/.cache\\torch\\hub\\pytorch_vision_v0.10.0\n"
     ]
    }
   ],
   "source": [
    "# # print(_get_features(frames))\n",
    "\n",
    "# features = _get_features(frames)\n",
    "# highlight_scores = _get_probs(features)\n",
    "# # print(features.shape)\n",
    "# # print(features[0].shape)\n",
    "# # print(_get_probs(features).shape)"
   ]
  },
  {
   "cell_type": "code",
   "execution_count": null,
   "metadata": {},
   "outputs": [],
   "source": [
    "import srt\n",
    "from extract_frames import extract_frames\n",
    "\n",
    "data=\"\"\n",
    "with open(\"test1.srt\") as f:\n",
    "    data = f.read()"
   ]
  },
  {
   "cell_type": "code",
   "execution_count": 7,
   "metadata": {},
   "outputs": [
    {
     "ename": "ModuleNotFoundError",
     "evalue": "No module named 'srt'",
     "output_type": "error",
     "traceback": [
      "\u001b[1;31m---------------------------------------------------------------------------\u001b[0m",
      "\u001b[1;31mModuleNotFoundError\u001b[0m                       Traceback (most recent call last)",
      "Cell \u001b[1;32mIn[7], line 1\u001b[0m\n\u001b[1;32m----> 1\u001b[0m \u001b[38;5;28;01mimport\u001b[39;00m \u001b[38;5;21;01msrt\u001b[39;00m\u001b[38;5;241m,\u001b[39m\u001b[38;5;21;01mos\u001b[39;00m\n\u001b[0;32m      2\u001b[0m \u001b[38;5;28;01mfrom\u001b[39;00m \u001b[38;5;21;01mextract_frames\u001b[39;00m \u001b[38;5;28;01mimport\u001b[39;00m extract_frames\n\u001b[0;32m      4\u001b[0m data\u001b[38;5;241m=\u001b[39m\u001b[38;5;124m\"\u001b[39m\u001b[38;5;124m\"\u001b[39m\n",
      "\u001b[1;31mModuleNotFoundError\u001b[0m: No module named 'srt'"
     ]
    }
   ],
   "source": [
    "subs = srt.parse(data)\n",
    "torch.cuda.empty_cache()\n",
    "\n",
    "for sub in subs:\n",
    "    frames = []\n",
    "    if not os.path.exists(f\"frames/sub{sub.index}\"):\n",
    "        os.makedirs(f\"frames/sub{sub.index}\")\n",
    "    frames = extract_frames(\"video/steve.mp4\",os.path.join(\"frames\",f\"sub{sub.index}\"),sub.start.total_seconds(),sub.end.total_seconds(),2)\n",
    "    features = _get_features(frames)\n",
    "    highlight_scores = _get_probs(features)\n",
    "\n",
    "    highlight_scores = list(highlight_scores)\n",
    "    sorted_indices = [i[0] for i in sorted(enumerate(highlight_scores), key=lambda x: x[1])]\n",
    "    print(f\"The indices of the list in the increasing order of value are {sorted_indices}.\")\n",
    "    # print(sub)"
   ]
  },
  {
   "cell_type": "code",
   "execution_count": 16,
   "metadata": {},
   "outputs": [
    {
     "name": "stdout",
     "output_type": "stream",
     "text": [
      "The indices of the list in the increasing order of value are [83, 0, 1, 82, 2, 60, 79, 63, 3, 6, 81, 77, 80, 5, 18, 31, 67, 78, 9, 66, 64, 61, 59, 7, 4, 27, 29, 62, 16, 10, 28, 8, 26, 32, 40, 14, 65, 25, 39, 35, 19, 33, 38, 22, 13, 20, 55, 30, 12, 11, 41, 24, 56, 21, 34, 58, 23, 15, 43, 48, 49, 76, 68, 36, 17, 72, 37, 50, 73, 57, 44, 74, 42, 46, 70, 45, 75, 51, 69, 54, 52, 53, 71, 47].\n"
     ]
    }
   ],
   "source": [
    "highlight_scores = list(highlight_scores)\n",
    "sorted_indices = [i[0] for i in sorted(enumerate(highlight_scores), key=lambda x: x[1])]\n",
    "print(f\"The indices of the list in the increasing order of value are {sorted_indices}.\")"
   ]
  }
 ],
 "metadata": {
  "kernelspec": {
   "display_name": "venv",
   "language": "python",
   "name": "python3"
  },
  "language_info": {
   "codemirror_mode": {
    "name": "ipython",
    "version": 3
   },
   "file_extension": ".py",
   "mimetype": "text/x-python",
   "name": "python",
   "nbconvert_exporter": "python",
   "pygments_lexer": "ipython3",
   "version": "3.10.6"
  }
 },
 "nbformat": 4,
 "nbformat_minor": 2
}
